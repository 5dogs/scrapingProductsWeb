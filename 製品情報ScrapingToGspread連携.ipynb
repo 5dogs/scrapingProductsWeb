{
  "cells": [
    {
      "cell_type": "markdown",
      "metadata": {
        "id": "view-in-github",
        "colab_type": "text"
      },
      "source": [
        "<a href=\"https://colab.research.google.com/github/5dogs/scrapingProductsWeb/blob/newbranch/%E8%A3%BD%E5%93%81%E6%83%85%E5%A0%B1ScrapingToGspread%E9%80%A3%E6%90%BA.ipynb\" target=\"_parent\"><img src=\"https://colab.research.google.com/assets/colab-badge.svg\" alt=\"Open In Colab\"/></a>"
      ]
    },
    {
      "cell_type": "markdown",
      "source": [
        "GSpread APIの認証情報(JSONファイル形式)を←のメニューバーからアップロードする。多分毎回のランタイム接続ごとにやり直さないといけない？otherwise,GSpreadと連携できない"
      ],
      "metadata": {
        "id": "kx2VVj_BpRyS"
      }
    },
    {
      "cell_type": "code",
      "source": [
        "import requests\n",
        "import gspread\n",
        "from bs4 import BeautifulSoup\n",
        "from oauth2client.service_account import ServiceAccountCredentials\n",
        "from google.oauth2.service_account import Credentials\n",
        "from google.oauth2 import service_account\n",
        "\n",
        "\n",
        "SP_CREDENTIAL_FILE= \"/content/GSpread連携withGcolab.json\"\n",
        "\n",
        "\n",
        "SP_COPE=[\n",
        "    \"https://www.googleapis.com/auth/drive\",\n",
        "    \"https://spreadsheets.google.com/feeds\"\n",
        "]\n",
        "credentials=service_account.Credentials.from_service_account_file(SP_CREDENTIAL_FILE, scopes=SP_COPE)\n",
        "\n",
        "#ServiceAccountCredentials.from_json_keyfile_name(SP_CREDENTIAL_FILE,SP_COPE)\n",
        "gc = gspread.authorize(credentials)\n",
        "worksheet = gc.open('バイトてすと').sheet1"
      ],
      "metadata": {
        "id": "-_NR7tjvYvia"
      },
      "execution_count": null,
      "outputs": []
    },
    {
      "cell_type": "code",
      "source": [
        "def pickURLs(j):\n",
        "  column = \"F\"\n",
        "  rowwww = j\n",
        "  url = worksheet.acell( f\"{column}{rowwww}\").value\n",
        "  return url"
      ],
      "metadata": {
        "id": "7HSUi4TaEX3s"
      },
      "execution_count": null,
      "outputs": []
    },
    {
      "cell_type": "code",
      "source": [
        "from PIL import Image\n",
        "import io\n",
        "import os\n",
        "from googleapiclient.http import MediaFileUpload\n",
        "from googleapiclient.discovery import build\n",
        "\n",
        "def saveImg(img,file_name):\n",
        "  target_folder_id = \"1p3ccAEI-UVP9gVXQVim_m2Y72bQF47Ek\"\n",
        "  folder_name = \"2023/03/18石川ぬんた\"\n",
        "\n",
        "  folder_metadata = {\n",
        "    'name': folder_name,\n",
        "    'parents': [target_folder_id],\n",
        "    # contentType\n",
        "    'mimeType': 'application/vnd.google-apps.folder'}\n",
        "  # driveAPIアクセスのための認証情報\n",
        "  service = build('drive', 'v3', credentials=credentials)\n",
        "\n",
        "  folderData = service.files().create(body=folder_metadata, fields='id, webViewLink').execute()\n",
        "  folder_id  = folderData.get('id')\n",
        "  folder_url = folderData.get('webViewLink')\n",
        "  folder_url_str = str(folder_url)\n",
        "  #ファイルを見たいときは、、、webContentLink\n",
        "  print(folder_id)\n",
        "  print(\"これfolder_url→\",folder_url)\n",
        "\n",
        "  # file_name = \"製品番号テスト用567.png\"\n",
        "  # 画像ファイルを親フォルダに保存する\n",
        "  folderWithfile = os.path.join(folder_name, file_name)\n",
        "  if not os.path.exists(folder_name):\n",
        "      os.makedirs(folder_name)\n",
        "  img.save(folderWithfile)\n",
        "  print(folderWithfile)\n",
        "\n",
        "\n",
        "  file_metadata = {\n",
        "    'name': file_name,\n",
        "    'parents': [folder_id]}\n",
        "  # folderWithfileのアップロード\n",
        "  media = MediaFileUpload(folderWithfile, resumable=True)\n",
        "  fileData = service.files().create(body=file_metadata, media_body=media, fields='id').execute()\n",
        "  file_id = fileData.get('id')\n",
        "  # file_url = fileData.get('webContentLink')\n",
        "  print('file_id: %s' % file_id)\n",
        "  # print(file_url)\n",
        "  return folder_url_str\n",
        "\n",
        "# URLから画像の取得・変換と保存\n",
        "# url = \"https://www.settsu.co.jp/catalogs/sersrc/1824\"\n",
        "def pickImg_fromURL__convert_toPng(url):\n",
        "  html = requests.get(url).content\n",
        "  soup = BeautifulSoup(html, \"html.parser\")\n",
        "  img_src = soup.find('li', {'id': 'main-image-0'}).find('img')['src']\n",
        "  print(img_src)\n",
        "  img_url = \"https://www.settsu.co.jp\"+img_src\n",
        "  response = requests.get(img_url)\n",
        "  img = Image.open(io.BytesIO(response.content))\n",
        "  return img\n",
        "\n",
        "# saveImg(pickImg_fromURL__convert_toPng(url))"
      ],
      "metadata": {
        "id": "SzXIJ4_kB1Yb"
      },
      "execution_count": null,
      "outputs": []
    },
    {
      "cell_type": "code",
      "source": [
        "def pickFeatureList():\n",
        "  end_col = worksheet.row_values(1).index('（項目）')  # \"項目\"の列のインデックスを取得する\n",
        "  values = worksheet.range(1, 14, 1, end_col)\n",
        "  print(end_col)\n",
        "\n",
        "  featureList = []\n",
        "  for cell in values:\n",
        "      if cell.col == end_col+1:\n",
        "          break\n",
        "      featureList.append(cell.value)\n",
        "\n",
        "  return featureList\n",
        "pickFeatureList()"
      ],
      "metadata": {
        "colab": {
          "base_uri": "https://localhost:8080/"
        },
        "id": "5j0E5yJjM0OR",
        "outputId": "9b6884dc-8cb7-4ede-d665-7a8eb56adb8e"
      },
      "execution_count": null,
      "outputs": [
        {
          "output_type": "stream",
          "name": "stdout",
          "text": [
            "20\n"
          ]
        },
        {
          "output_type": "execute_result",
          "data": {
            "text/plain": [
              "['材質・色', '主要材質', '色・外装処理', '電磁シールド', '防音性能', '静止荷重', '耐震性能']"
            ]
          },
          "metadata": {},
          "execution_count": 37
        }
      ]
    },
    {
      "cell_type": "code",
      "source": [
        "url = \"https://www.settsu.co.jp/catalogs/sersrc/1960\"\n",
        "\n",
        "def pickSpantag(url):\n",
        "  response = requests.get(url)\n",
        "  html = response.text\n",
        "\n",
        "  # BeautifulSoupを使用してHTMLを解析\n",
        "  soup = BeautifulSoup(html, \"html.parser\")\n",
        "\n",
        "  # <span>タグを抜き出して、その中のテキストを抜き出す\n",
        "  span_tags = soup.find_all(\"span\")\n",
        "\n",
        "  text_list = []\n",
        "  for tag in span_tags:\n",
        "      if tag.get(\"class\") == [\"line1\"] or tag.get(\"class\") == [\"line2\"]:\n",
        "          print(tag.text.strip())\n",
        "          text_list.append(tag.text.strip())\n",
        "  text_str = \"\".join(text_list)\n",
        "  return text_str\n",
        "pickSpantag(url)"
      ],
      "metadata": {
        "colab": {
          "base_uri": "https://localhost:8080/",
          "height": 72
        },
        "id": "xO0tY5kWseRu",
        "outputId": "9ed4a5c7-2866-4cb8-fc6f-c1418a0cf1b7"
      },
      "execution_count": null,
      "outputs": [
        {
          "output_type": "stream",
          "name": "stdout",
          "text": [
            "配線ラック\n",
            "SSRW シリーズ\n"
          ]
        },
        {
          "output_type": "execute_result",
          "data": {
            "text/plain": [
              "'配線ラックSSRW シリーズ'"
            ],
            "application/vnd.google.colaboratory.intrinsic+json": {
              "type": "string"
            }
          },
          "metadata": {},
          "execution_count": 53
        }
      ]
    },
    {
      "cell_type": "code",
      "execution_count": null,
      "metadata": {
        "id": "KTUIBYIoi2Wz"
      },
      "outputs": [],
      "source": [
        "def pickInfo(featureList,url):\n",
        "  featureDataList= []\n",
        "  # print(\"以下が!!!!!!!!\",url)\n",
        "  html = requests.get(url).content\n",
        "  soup = BeautifulSoup(html, \"html.parser\")\n",
        "  table = soup.find(\"table\")\n",
        "  table_tag = soup.find('div', {'class': 'feature-table'})\n",
        "  trs = table_tag.findAll(\"tr\")\n",
        "\n",
        "  for feature in featureList:\n",
        "    found = False\n",
        "    for tr in trs:\n",
        "      if feature in tr.text:\n",
        "        found = True\n",
        "        tds = tr.findAll(\"td\")\n",
        "        for td in tds:\n",
        "          cleaned_text = td.text.replace('\\n', '').replace('　', '')\n",
        "          # \\¥uが王道らしいけどもねー\n",
        "\n",
        "          featureDataList.append(cleaned_text)\n",
        "        break\n",
        "    if not found:\n",
        "      # print(\"NULL\")\n",
        "      featureDataList.append(\"NULL\")\n",
        "  return featureDataList"
      ]
    },
    {
      "cell_type": "code",
      "source": [
        "def pickComment(url):\n",
        "  html = requests.get(url).content\n",
        "  soup = BeautifulSoup(html, \"html.parser\")\n",
        "  comment = soup.find('p', class_='series-feature-comment')\n",
        "  comment = comment.text.replace('\\n', '').replace(' ', '')\n",
        "  return comment"
      ],
      "metadata": {
        "id": "GtY5WW2Ub38M"
      },
      "execution_count": null,
      "outputs": []
    },
    {
      "cell_type": "code",
      "source": [
        "def puttableData(info):\n",
        "  i = 0\n",
        "  while i<len(info):\n",
        "\n",
        "    worksheet.update_cell(k, 14 + i, info[i])\n",
        "    print(info[i])\n",
        "\n",
        "    i = i +1\n",
        "  return"
      ],
      "metadata": {
        "id": "3jcFQqLa70eQ"
      },
      "execution_count": null,
      "outputs": []
    },
    {
      "cell_type": "code",
      "source": [
        "def putData(info1,info2,info3,info4):\n",
        "\n",
        "  worksheet.update_cell(k, 9, info1)\n",
        "  worksheet.update_cell(k, 8, info2)\n",
        "  worksheet.update_cell(k, 11, info3)\n",
        "  worksheet.update_cell(k, 10, info4)"
      ],
      "metadata": {
        "id": "g6URAKV_egoU"
      },
      "execution_count": null,
      "outputs": []
    },
    {
      "cell_type": "code",
      "source": [
        "setList =pickFeatureList()\n",
        "k = 25\n",
        "while True:\n",
        "  url = pickURLs(k)\n",
        "  if url is None:\n",
        "    break\n",
        "  info1 = pickComment(url)\n",
        "  info2 = pickSpantag(url)\n",
        "\n",
        "  file_name = info2+\".png\"\n",
        "  info3 = saveImg(pickImg_fromURL__convert_toPng(url),file_name)\n",
        "  info4 = file_name\n",
        "\n",
        "  putData(info1, info2, info3, info4)\n",
        "  puttableData(pickInfo(setList,url))\n",
        "\n",
        "  k = k +1"
      ],
      "metadata": {
        "colab": {
          "base_uri": "https://localhost:8080/",
          "height": 248
        },
        "id": "TTxuhQd4T4bO",
        "outputId": "7e7fb02b-82bd-4271-d94b-c0b80a1db966"
      },
      "execution_count": null,
      "outputs": [
        {
          "output_type": "error",
          "ename": "NameError",
          "evalue": "ignored",
          "traceback": [
            "\u001b[0;31m---------------------------------------------------------------------------\u001b[0m",
            "\u001b[0;31mNameError\u001b[0m                                 Traceback (most recent call last)",
            "\u001b[0;32m<ipython-input-1-d30ae562f988>\u001b[0m in \u001b[0;36m<module>\u001b[0;34m\u001b[0m\n\u001b[0;32m----> 1\u001b[0;31m \u001b[0msetList\u001b[0m \u001b[0;34m=\u001b[0m\u001b[0mpickFeatureList\u001b[0m\u001b[0;34m(\u001b[0m\u001b[0;34m)\u001b[0m\u001b[0;34m\u001b[0m\u001b[0;34m\u001b[0m\u001b[0m\n\u001b[0m\u001b[1;32m      2\u001b[0m \u001b[0mk\u001b[0m \u001b[0;34m=\u001b[0m \u001b[0;36m25\u001b[0m\u001b[0;34m\u001b[0m\u001b[0;34m\u001b[0m\u001b[0m\n\u001b[1;32m      3\u001b[0m \u001b[0;32mwhile\u001b[0m \u001b[0;32mTrue\u001b[0m\u001b[0;34m:\u001b[0m\u001b[0;34m\u001b[0m\u001b[0;34m\u001b[0m\u001b[0m\n\u001b[1;32m      4\u001b[0m   \u001b[0murl\u001b[0m \u001b[0;34m=\u001b[0m \u001b[0mpickURLs\u001b[0m\u001b[0;34m(\u001b[0m\u001b[0mk\u001b[0m\u001b[0;34m)\u001b[0m\u001b[0;34m\u001b[0m\u001b[0;34m\u001b[0m\u001b[0m\n\u001b[1;32m      5\u001b[0m   \u001b[0;32mif\u001b[0m \u001b[0murl\u001b[0m \u001b[0;32mis\u001b[0m \u001b[0;32mNone\u001b[0m\u001b[0;34m:\u001b[0m\u001b[0;34m\u001b[0m\u001b[0;34m\u001b[0m\u001b[0m\n",
            "\u001b[0;31mNameError\u001b[0m: name 'pickFeatureList' is not defined"
          ]
        }
      ]
    },
    {
      "cell_type": "code",
      "source": [],
      "metadata": {
        "id": "fJ8Sa3DGZO6H"
      },
      "execution_count": null,
      "outputs": []
    }
  ],
  "metadata": {
    "colab": {
      "provenance": [],
      "mount_file_id": "1NxalfSdut4uhLVCMtwCYxiIIYajYHGST",
      "authorship_tag": "ABX9TyOdpF1nozyMZHi8j5lbV61L",
      "include_colab_link": true
    },
    "kernelspec": {
      "display_name": "Python 3",
      "name": "python3"
    },
    "language_info": {
      "name": "python"
    }
  },
  "nbformat": 4,
  "nbformat_minor": 0
}